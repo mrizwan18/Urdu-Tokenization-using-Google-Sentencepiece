{
 "cells": [
  {
   "cell_type": "code",
   "execution_count": 1,
   "metadata": {},
   "outputs": [],
   "source": [
    "import sentencepiece as spm\n",
    "import pickle\n",
    "import pathlib"
   ]
  },
  {
   "cell_type": "code",
   "execution_count": 9,
   "metadata": {},
   "outputs": [],
   "source": [
    "path = pathlib.Path.cwd()\n",
    "p = path.glob('UrduWikipediaArticles/*')"
   ]
  },
  {
   "cell_type": "code",
   "execution_count": 10,
   "metadata": {},
   "outputs": [],
   "source": [
    "files = [file for file in p if file.is_file()]"
   ]
  },
  {
   "cell_type": "code",
   "execution_count": 11,
   "metadata": {},
   "outputs": [
    {
     "data": {
      "text/plain": [
       "15560"
      ]
     },
     "execution_count": 11,
     "metadata": {},
     "output_type": "execute_result"
    }
   ],
   "source": [
    "len(files)"
   ]
  },
  {
   "cell_type": "code",
   "execution_count": null,
   "metadata": {},
   "outputs": [],
   "source": [
    "files = [str(file) for file in files]"
   ]
  },
  {
   "cell_type": "code",
   "execution_count": null,
   "metadata": {},
   "outputs": [],
   "source": [
    "flist = ','.join(files)"
   ]
  },
  {
   "cell_type": "code",
   "execution_count": null,
   "metadata": {},
   "outputs": [],
   "source": [
    "spm.SentencePieceTrainer.Train(\"--input={} --model_prefix=urdu_lm --vocab_size=30000\".format(flist))"
   ]
  },
  {
   "cell_type": "markdown",
   "metadata": {},
   "source": [
    "# Enter File Name"
   ]
  },
  {
   "cell_type": "code",
   "execution_count": 6,
   "metadata": {},
   "outputs": [
    {
     "name": "stdout",
     "output_type": "stream",
     "text": [
      "Please enter file name from which you want to read the text:urdu.txt\n"
     ]
    }
   ],
   "source": [
    "file = input(\"Please enter file name from which you want to read the text:\")\n",
    "with open(file, encoding='utf-8') as f:\n",
    "    text = f.read()\n",
    "    f.close()"
   ]
  },
  {
   "cell_type": "markdown",
   "metadata": {},
   "source": [
    "# Input Text"
   ]
  },
  {
   "cell_type": "code",
   "execution_count": 7,
   "metadata": {},
   "outputs": [
    {
     "data": {
      "text/plain": [
       "'\\ufeffتم آئے ہو نہ شب انتظار گزری ہے \\n\\nتلاش میں ہے سحر بار بار گزری ہے \\n\\nجنوں میں جتنی بھی گزری بکار گزری ہے \\n\\nاگرچہ دل پہ خرابی ہزار گزری ہے \\n\\nہوئی ہے حضرت ناصح سے گفتگو جس شب \\n\\nوہ شب ضرور سر کوئے یار گزری ہے \\n\\nوہ بات سارے فسانے میں جس کا ذکر نہ تھا \\n\\nوہ بات ان کو بہت نا گوار گزری ہے \\n\\nنہ گل کھلے ہیں نہ ان سے ملے نہ مے پی ہے \\n\\nعجیب رنگ میں اب کے بہار گزری ہے \\n\\nچمن پہ غارت گلچیں سے جانے کیا گزری \\n\\nقفس سے آج صبا بے قرار گزری ہے \\n'"
      ]
     },
     "execution_count": 7,
     "metadata": {},
     "output_type": "execute_result"
    }
   ],
   "source": [
    "text"
   ]
  },
  {
   "cell_type": "code",
   "execution_count": 8,
   "metadata": {},
   "outputs": [
    {
     "data": {
      "text/plain": [
       "True"
      ]
     },
     "execution_count": 8,
     "metadata": {},
     "output_type": "execute_result"
    }
   ],
   "source": [
    "sp = spm.SentencePieceProcessor()\n",
    "sp.Load(\"urdu_lm.model\")"
   ]
  },
  {
   "cell_type": "markdown",
   "metadata": {},
   "source": [
    "# Output Text"
   ]
  },
  {
   "cell_type": "code",
   "execution_count": 6,
   "metadata": {},
   "outputs": [
    {
     "name": "stdout",
     "output_type": "stream",
     "text": [
      "\n",
      "تم\n",
      "آئے\n",
      "ہو\n",
      "نہ\n",
      "شب\n",
      "انتظار\n",
      "گزری\n",
      "ہے\n",
      "تلاش\n",
      "میں\n",
      "ہے\n",
      "سحر\n",
      "بار\n",
      "بار\n",
      "گزری\n",
      "ہے\n",
      "جنوں\n",
      "میں\n",
      "جتنی\n",
      "بھی\n",
      "گزری\n",
      "بکار\n",
      "گزری\n",
      "ہے\n",
      "اگرچہ\n",
      "دل\n",
      "پہ\n",
      "خرابی\n",
      "ہزار\n",
      "گزری\n",
      "ہے\n",
      "ہوئی\n",
      "ہے\n",
      "حضرت\n",
      "ناصح\n",
      "سے\n",
      "گفتگو\n",
      "جس\n",
      "شب\n",
      "وہ\n",
      "شب\n",
      "ضرور\n",
      "سر\n",
      "کوئے\n",
      "یار\n",
      "گزری\n",
      "ہے\n",
      "وہ\n",
      "بات\n",
      "سارے\n",
      "فسانے\n",
      "میں\n",
      "جس\n",
      "کا\n",
      "ذکر\n",
      "نہ\n",
      "تھا\n",
      "وہ\n",
      "بات\n",
      "ان\n",
      "کو\n",
      "بہت\n",
      "نا\n",
      "گوار\n",
      "گزری\n",
      "ہے\n",
      "نہ\n",
      "گل\n",
      "کھلے\n",
      "ہیں\n",
      "نہ\n",
      "ان\n",
      "سے\n",
      "ملے\n",
      "نہ\n",
      "مے\n",
      "پی\n",
      "ہے\n",
      "عجیب\n",
      "رنگ\n",
      "میں\n",
      "اب\n",
      "کے\n",
      "بہار\n",
      "گزری\n",
      "ہے\n",
      "چمن\n",
      "پہ\n",
      "غارت\n",
      "گلچیں\n",
      "سے\n",
      "جانے\n",
      "کیا\n",
      "گزری\n",
      "قفس\n",
      "سے\n",
      "آج\n",
      "صبا\n",
      "بے\n",
      "قرار\n",
      "گزری\n",
      "ہے\n"
     ]
    }
   ],
   "source": [
    "tokenized = sp.EncodeAsPieces(text)\n",
    "tokenized = ''.join(tokenized).replace('▁', '\\n')\n",
    "print(tokenized)"
   ]
  },
  {
   "cell_type": "markdown",
   "metadata": {},
   "source": [
    "# Write To File"
   ]
  },
  {
   "cell_type": "code",
   "execution_count": 7,
   "metadata": {},
   "outputs": [
    {
     "name": "stdout",
     "output_type": "stream",
     "text": [
      "Tokenized text is written in file \"output.txt\"\n"
     ]
    }
   ],
   "source": [
    "with open('output.txt', 'w+', encoding='utf-8') as f:\n",
    "    for token in tokenized:\n",
    "        f.write(token)\n",
    "    f.close()\n",
    "print('Tokenized text is written in file \"output.txt\"')"
   ]
  },
  {
   "cell_type": "code",
   "execution_count": null,
   "metadata": {},
   "outputs": [],
   "source": []
  }
 ],
 "metadata": {
  "kernelspec": {
   "display_name": "Python 3",
   "language": "python",
   "name": "python3"
  },
  "language_info": {
   "codemirror_mode": {
    "name": "ipython",
    "version": 3
   },
   "file_extension": ".py",
   "mimetype": "text/x-python",
   "name": "python",
   "nbconvert_exporter": "python",
   "pygments_lexer": "ipython3",
   "version": "3.7.1"
  }
 },
 "nbformat": 4,
 "nbformat_minor": 2
}
